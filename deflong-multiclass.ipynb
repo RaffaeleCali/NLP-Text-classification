{
 "cells": [
  {
   "cell_type": "code",
   "execution_count": 2,
   "id": "a68392f2",
   "metadata": {
    "colab": {
     "base_uri": "https://localhost:8080/"
    },
    "execution": {
     "iopub.execute_input": "2024-03-25T19:38:59.952260Z",
     "iopub.status.busy": "2024-03-25T19:38:59.951505Z",
     "iopub.status.idle": "2024-03-25T19:38:59.957592Z",
     "shell.execute_reply": "2024-03-25T19:38:59.956651Z",
     "shell.execute_reply.started": "2024-03-25T19:38:59.952224Z"
    },
    "id": "J0qNYo1iavpv",
    "outputId": "de6d138c-7456-43ba-9ef0-fc85b4ad7d3e",
    "scrolled": true
   },
   "outputs": [],
   "source": [
    "import torch\n",
    "import torch.nn as nn\n",
    "import torch.nn.functional as F\n",
    "from torch.utils.data import DataLoader, Dataset\n",
    "from sklearn.metrics import precision_recall_fscore_support, accuracy_score\n",
    "from sklearn.model_selection import train_test_split\n",
    "from transformers import LongformerModel, LongformerTokenizer\n",
    "import os\n",
    "import pandas as pd\n",
    "import numpy as np\n",
    "from sklearn.metrics import f1_score, roc_auc_score, accuracy_score\n",
    "import logging"
   ]
  },
  {
   "cell_type": "code",
   "execution_count": 2,
   "id": "bb2b2448",
   "metadata": {
    "execution": {
     "iopub.execute_input": "2024-03-24T19:47:24.565613Z",
     "iopub.status.busy": "2024-03-24T19:47:24.565041Z",
     "iopub.status.idle": "2024-03-24T19:47:25.200786Z",
     "shell.execute_reply": "2024-03-24T19:47:25.199781Z",
     "shell.execute_reply.started": "2024-03-24T19:47:24.565586Z"
    }
   },
   "outputs": [],
   "source": [
    "import wandb"
   ]
  },
  {
   "cell_type": "code",
   "execution_count": 3,
   "id": "f26463e3",
   "metadata": {
    "execution": {
     "iopub.execute_input": "2024-03-24T19:47:25.202231Z",
     "iopub.status.busy": "2024-03-24T19:47:25.201935Z",
     "iopub.status.idle": "2024-03-24T19:48:11.554290Z",
     "shell.execute_reply": "2024-03-24T19:48:11.553331Z",
     "shell.execute_reply.started": "2024-03-24T19:47:25.202205Z"
    }
   },
   "outputs": [
    {
     "name": "stderr",
     "output_type": "stream",
     "text": [
      "\u001b[34m\u001b[1mwandb\u001b[0m: Logging into wandb.ai. (Learn how to deploy a W&B server locally: https://wandb.me/wandb-server)\n",
      "\u001b[34m\u001b[1mwandb\u001b[0m: You can find your API key in your browser here: https://wandb.ai/authorize\n",
      "\u001b[34m\u001b[1mwandb\u001b[0m: Paste an API key from your profile and hit enter, or press ctrl+c to quit:"
     ]
    },
    {
     "name": "stdin",
     "output_type": "stream",
     "text": [
      "  ········································\n"
     ]
    },
    {
     "name": "stderr",
     "output_type": "stream",
     "text": [
      "\u001b[34m\u001b[1mwandb\u001b[0m: Appending key for api.wandb.ai to your netrc file: /root/.netrc\n",
      "\u001b[34m\u001b[1mwandb\u001b[0m: Currently logged in as: \u001b[33mraffalo8888\u001b[0m. Use \u001b[1m`wandb login --relogin`\u001b[0m to force relogin\n"
     ]
    },
    {
     "data": {
      "text/html": [
       "Tracking run with wandb version 0.16.4"
      ],
      "text/plain": [
       "<IPython.core.display.HTML object>"
      ]
     },
     "metadata": {},
     "output_type": "display_data"
    },
    {
     "data": {
      "text/html": [
       "Run data is saved locally in <code>/kaggle/working/wandb/run-20240324_194739-z8lgbarr</code>"
      ],
      "text/plain": [
       "<IPython.core.display.HTML object>"
      ]
     },
     "metadata": {},
     "output_type": "display_data"
    },
    {
     "data": {
      "text/html": [
       "Syncing run <strong><a href='https://wandb.ai/raffalo8888/multilayer_long/runs/z8lgbarr' target=\"_blank\">ruby-star-21</a></strong> to <a href='https://wandb.ai/raffalo8888/multilayer_long' target=\"_blank\">Weights & Biases</a> (<a href='https://wandb.me/run' target=\"_blank\">docs</a>)<br/>"
      ],
      "text/plain": [
       "<IPython.core.display.HTML object>"
      ]
     },
     "metadata": {},
     "output_type": "display_data"
    },
    {
     "data": {
      "text/html": [
       " View project at <a href='https://wandb.ai/raffalo8888/multilayer_long' target=\"_blank\">https://wandb.ai/raffalo8888/multilayer_long</a>"
      ],
      "text/plain": [
       "<IPython.core.display.HTML object>"
      ]
     },
     "metadata": {},
     "output_type": "display_data"
    },
    {
     "data": {
      "text/html": [
       " View run at <a href='https://wandb.ai/raffalo8888/multilayer_long/runs/z8lgbarr' target=\"_blank\">https://wandb.ai/raffalo8888/multilayer_long/runs/z8lgbarr</a>"
      ],
      "text/plain": [
       "<IPython.core.display.HTML object>"
      ]
     },
     "metadata": {},
     "output_type": "display_data"
    },
    {
     "data": {
      "text/html": [
       "<button onClick=\"this.nextSibling.style.display='block';this.style.display='none';\">Display W&B run</button><iframe src='https://wandb.ai/raffalo8888/multilayer_long/runs/z8lgbarr?jupyter=true' style='border:none;width:100%;height:420px;display:none;'></iframe>"
      ],
      "text/plain": [
       "<wandb.sdk.wandb_run.Run at 0x7caeef0a8e50>"
      ]
     },
     "execution_count": 3,
     "metadata": {},
     "output_type": "execute_result"
    }
   ],
   "source": [
    "\n",
    "# Inizializza wandb\n",
    "wandb.login()\n",
    "wandb.init(project=\"multilayer_long\", entity=\"raffalo8888\")"
   ]
  },
  {
   "cell_type": "code",
   "execution_count": 4,
   "id": "6b625f6f",
   "metadata": {
    "execution": {
     "iopub.execute_input": "2024-03-24T19:48:11.556915Z",
     "iopub.status.busy": "2024-03-24T19:48:11.556648Z",
     "iopub.status.idle": "2024-03-24T19:48:11.561900Z",
     "shell.execute_reply": "2024-03-24T19:48:11.561055Z",
     "shell.execute_reply.started": "2024-03-24T19:48:11.556890Z"
    },
    "id": "uvZD2_lYelKo"
   },
   "outputs": [],
   "source": [
    "logging.basicConfig(level=logging.INFO, format='%(asctime)s - %(levelname)s - %(message)s')\n",
    "logger = logging.getLogger(__name__)"
   ]
  },
  {
   "cell_type": "code",
   "execution_count": null,
   "id": "4d0be9af",
   "metadata": {},
   "outputs": [],
   "source": []
  },
  {
   "cell_type": "code",
   "execution_count": 3,
   "id": "2c5a75af",
   "metadata": {
    "execution": {
     "iopub.execute_input": "2024-03-25T19:39:05.982332Z",
     "iopub.status.busy": "2024-03-25T19:39:05.981160Z",
     "iopub.status.idle": "2024-03-25T19:39:05.988064Z",
     "shell.execute_reply": "2024-03-25T19:39:05.987058Z",
     "shell.execute_reply.started": "2024-03-25T19:39:05.982297Z"
    },
    "id": "J34UApt4jNER"
   },
   "outputs": [],
   "source": [
    "from torch.nn import BCEWithLogitsLoss\n",
    "from transformers import LongformerTokenizerFast, \\\n",
    "LongformerModel, LongformerConfig, Trainer, TrainingArguments, EvalPrediction, AutoTokenizer\n",
    "from transformers.models.longformer.modeling_longformer import LongformerPreTrainedModel, LongformerClassificationHead\n",
    "from torch.utils.data import Dataset, DataLoader\n",
    "import random\n",
    "\n",
    "\n"
   ]
  },
  {
   "cell_type": "markdown",
   "id": "d18bd211",
   "metadata": {},
   "source": [
    "### Aggiunta di un layer di classificazione al longformer"
   ]
  },
  {
   "cell_type": "code",
   "execution_count": 4,
   "id": "4ecd5022",
   "metadata": {
    "execution": {
     "iopub.execute_input": "2024-03-25T19:39:08.174957Z",
     "iopub.status.busy": "2024-03-25T19:39:08.174059Z",
     "iopub.status.idle": "2024-03-25T19:39:08.186250Z",
     "shell.execute_reply": "2024-03-25T19:39:08.185197Z",
     "shell.execute_reply.started": "2024-03-25T19:39:08.174923Z"
    },
    "id": "NL11YTlxjshH"
   },
   "outputs": [],
   "source": [
    "\n",
    "class LongformerForMultiLabelSequenceClassification(LongformerPreTrainedModel):\n",
    "  \n",
    "\n",
    "    def __init__(self, config):\n",
    "        super(LongformerForMultiLabelSequenceClassification, self).__init__(config)\n",
    "        self.num_labels = config.num_labels\n",
    "        self.longformer = LongformerModel(config)\n",
    "        self.classifier = LongformerClassificationHead(config)\n",
    "        self.init_weights()\n",
    "    def forward(self, input_ids=None, attention_mask=None, global_attention_mask=None,\n",
    "                token_type_ids=None, position_ids=None, inputs_embeds=None,\n",
    "                labels=None):\n",
    "\n",
    "        if global_attention_mask is None:\n",
    "            global_attention_mask = torch.zeros_like(input_ids)\n",
    "            global_attention_mask[:, 0] = 1\n",
    "\n",
    "        \n",
    "        outputs = self.longformer(\n",
    "            input_ids = input_ids,\n",
    "            attention_mask = attention_mask,\n",
    "            global_attention_mask = global_attention_mask,\n",
    "            token_type_ids = token_type_ids,\n",
    "            position_ids = position_ids)\n",
    "\n",
    "        \n",
    "        sequence_output = outputs['last_hidden_state']\n",
    "\n",
    "        logits = self.classifier(sequence_output)\n",
    "        outputs = (logits,) + outputs[2:]\n",
    "        if labels is not None:\n",
    "            loss_fct = BCEWithLogitsLoss()\n",
    "            labels = labels.float()\n",
    "            loss = loss_fct(logits.view(-1, self.num_labels),\n",
    "                            labels.view(-1, self.num_labels))\n",
    "            outputs = (loss,) + outputs\n",
    "\n",
    "\n",
    "        return outputs\n",
    "\n"
   ]
  },
  {
   "cell_type": "code",
   "execution_count": 146,
   "id": "94a68602",
   "metadata": {
    "colab": {
     "base_uri": "https://localhost:8080/",
     "height": 597
    },
    "execution": {
     "iopub.execute_input": "2024-03-25T13:53:12.369423Z",
     "iopub.status.busy": "2024-03-25T13:53:12.368704Z",
     "iopub.status.idle": "2024-03-25T13:53:12.970903Z",
     "shell.execute_reply": "2024-03-25T13:53:12.969704Z",
     "shell.execute_reply.started": "2024-03-25T13:53:12.369391Z"
    },
    "id": "Q2RYrBbalDyI",
    "outputId": "8ff07e26-2097-4022-e84b-7b5cffff1849"
   },
   "outputs": [],
   "source": [
    "k_neighbour = pd.read_csv(\"/kaggle/input/k-neighb/dataset_k_neighbour.csv\")\n"
   ]
  },
  {
   "cell_type": "markdown",
   "id": "bc7e68f0",
   "metadata": {},
   "source": [
    "### Trasformazione delle classi in vettori oneHot"
   ]
  },
  {
   "cell_type": "code",
   "execution_count": 150,
   "id": "650e1d3c",
   "metadata": {
    "colab": {
     "base_uri": "https://localhost:8080/",
     "height": 574
    },
    "execution": {
     "iopub.execute_input": "2024-03-25T13:54:02.404771Z",
     "iopub.status.busy": "2024-03-25T13:54:02.403902Z",
     "iopub.status.idle": "2024-03-25T13:54:02.469541Z",
     "shell.execute_reply": "2024-03-25T13:54:02.468641Z",
     "shell.execute_reply.started": "2024-03-25T13:54:02.404740Z"
    },
    "id": "4tN10_Z1mHw9",
    "outputId": "497184bd-c5dc-44b3-dda1-3b92137b90a4"
   },
   "outputs": [
    {
     "name": "stderr",
     "output_type": "stream",
     "text": [
      "/opt/conda/lib/python3.10/site-packages/sklearn/preprocessing/_encoders.py:868: FutureWarning: `sparse` was renamed to `sparse_output` in version 1.2 and will be removed in 1.4. `sparse_output` is ignored unless you leave `sparse` to its default value.\n",
      "  warnings.warn(\n"
     ]
    },
    {
     "data": {
      "text/html": [
       "<div>\n",
       "<style scoped>\n",
       "    .dataframe tbody tr th:only-of-type {\n",
       "        vertical-align: middle;\n",
       "    }\n",
       "\n",
       "    .dataframe tbody tr th {\n",
       "        vertical-align: top;\n",
       "    }\n",
       "\n",
       "    .dataframe thead th {\n",
       "        text-align: right;\n",
       "    }\n",
       "</style>\n",
       "<table border=\"1\" class=\"dataframe\">\n",
       "  <thead>\n",
       "    <tr style=\"text-align: right;\">\n",
       "      <th></th>\n",
       "      <th>Text</th>\n",
       "      <th>Category</th>\n",
       "      <th>ID</th>\n",
       "      <th>Category_OneHot</th>\n",
       "    </tr>\n",
       "  </thead>\n",
       "  <tbody>\n",
       "    <tr>\n",
       "      <th>0</th>\n",
       "      <td>AP - Kobe Bryant can go on as a basketball sup...</td>\n",
       "      <td>sport</td>\n",
       "      <td>0</td>\n",
       "      <td>[0.0, 0.0, 0.0, 1.0, 0.0]</td>\n",
       "    </tr>\n",
       "    <tr>\n",
       "      <th>1</th>\n",
       "      <td>AP - Jerry Rice returned to the practice field...</td>\n",
       "      <td>sport</td>\n",
       "      <td>1</td>\n",
       "      <td>[0.0, 0.0, 0.0, 1.0, 0.0]</td>\n",
       "    </tr>\n",
       "    <tr>\n",
       "      <th>2</th>\n",
       "      <td>AP - In a candid interview with his time in of...</td>\n",
       "      <td>politics</td>\n",
       "      <td>2</td>\n",
       "      <td>[0.0, 0.0, 1.0, 0.0, 0.0]</td>\n",
       "    </tr>\n",
       "    <tr>\n",
       "      <th>3</th>\n",
       "      <td>Nokia Corp., the world 39;s largest mobile pho...</td>\n",
       "      <td>business</td>\n",
       "      <td>3</td>\n",
       "      <td>[1.0, 0.0, 0.0, 0.0, 0.0]</td>\n",
       "    </tr>\n",
       "    <tr>\n",
       "      <th>4</th>\n",
       "      <td>Nairobi - Kenya 39;s fight against corruption ...</td>\n",
       "      <td>politics</td>\n",
       "      <td>4</td>\n",
       "      <td>[0.0, 0.0, 1.0, 0.0, 0.0]</td>\n",
       "    </tr>\n",
       "    <tr>\n",
       "      <th>...</th>\n",
       "      <td>...</td>\n",
       "      <td>...</td>\n",
       "      <td>...</td>\n",
       "      <td>...</td>\n",
       "    </tr>\n",
       "    <tr>\n",
       "      <th>53663</th>\n",
       "      <td>The US Federal Trade Commission filed a legal ...</td>\n",
       "      <td>tech</td>\n",
       "      <td>53663</td>\n",
       "      <td>[0.0, 0.0, 0.0, 0.0, 1.0]</td>\n",
       "    </tr>\n",
       "    <tr>\n",
       "      <th>53664</th>\n",
       "      <td>Blogs are the hottest thing on the Net, but ar...</td>\n",
       "      <td>business</td>\n",
       "      <td>53664</td>\n",
       "      <td>[1.0, 0.0, 0.0, 0.0, 0.0]</td>\n",
       "    </tr>\n",
       "    <tr>\n",
       "      <th>53665</th>\n",
       "      <td>Sprint 39;s acquisition of Nextel Communicatio...</td>\n",
       "      <td>business</td>\n",
       "      <td>53665</td>\n",
       "      <td>[1.0, 0.0, 0.0, 0.0, 0.0]</td>\n",
       "    </tr>\n",
       "    <tr>\n",
       "      <th>53666</th>\n",
       "      <td>The state's highest court affirmed an already ...</td>\n",
       "      <td>business</td>\n",
       "      <td>53666</td>\n",
       "      <td>[1.0, 0.0, 0.0, 0.0, 0.0]</td>\n",
       "    </tr>\n",
       "    <tr>\n",
       "      <th>53667</th>\n",
       "      <td>NEW YORK - A grim combination of higher oil pr...</td>\n",
       "      <td>politics</td>\n",
       "      <td>53667</td>\n",
       "      <td>[0.0, 0.0, 1.0, 0.0, 0.0]</td>\n",
       "    </tr>\n",
       "  </tbody>\n",
       "</table>\n",
       "<p>53668 rows × 4 columns</p>\n",
       "</div>"
      ],
      "text/plain": [
       "                                                    Text  Category     ID  \\\n",
       "0      AP - Kobe Bryant can go on as a basketball sup...     sport      0   \n",
       "1      AP - Jerry Rice returned to the practice field...     sport      1   \n",
       "2      AP - In a candid interview with his time in of...  politics      2   \n",
       "3      Nokia Corp., the world 39;s largest mobile pho...  business      3   \n",
       "4      Nairobi - Kenya 39;s fight against corruption ...  politics      4   \n",
       "...                                                  ...       ...    ...   \n",
       "53663  The US Federal Trade Commission filed a legal ...      tech  53663   \n",
       "53664  Blogs are the hottest thing on the Net, but ar...  business  53664   \n",
       "53665  Sprint 39;s acquisition of Nextel Communicatio...  business  53665   \n",
       "53666  The state's highest court affirmed an already ...  business  53666   \n",
       "53667  NEW YORK - A grim combination of higher oil pr...  politics  53667   \n",
       "\n",
       "                 Category_OneHot  \n",
       "0      [0.0, 0.0, 0.0, 1.0, 0.0]  \n",
       "1      [0.0, 0.0, 0.0, 1.0, 0.0]  \n",
       "2      [0.0, 0.0, 1.0, 0.0, 0.0]  \n",
       "3      [1.0, 0.0, 0.0, 0.0, 0.0]  \n",
       "4      [0.0, 0.0, 1.0, 0.0, 0.0]  \n",
       "...                          ...  \n",
       "53663  [0.0, 0.0, 0.0, 0.0, 1.0]  \n",
       "53664  [1.0, 0.0, 0.0, 0.0, 0.0]  \n",
       "53665  [1.0, 0.0, 0.0, 0.0, 0.0]  \n",
       "53666  [1.0, 0.0, 0.0, 0.0, 0.0]  \n",
       "53667  [0.0, 0.0, 1.0, 0.0, 0.0]  \n",
       "\n",
       "[53668 rows x 4 columns]"
      ]
     },
     "execution_count": 150,
     "metadata": {},
     "output_type": "execute_result"
    }
   ],
   "source": [
    "from sklearn.preprocessing import OneHotEncoder\n",
    "\n",
    "df = k_neighbour.drop(columns=['df_index', 'lunghezza_testo'])\n",
    "df['ID'] = range(0, len(df) )\n",
    "\n",
    "encoder = OneHotEncoder(sparse=False)  \n",
    "categories_onehot = encoder.fit_transform(df[['Category']])  \n",
    "\n",
    "df['Category_OneHot'] = list(categories_onehot)\n",
    "\n",
    "# 0 buss 1 other  2 politc 3 sport 4 tech \n",
    "df\n"
   ]
  },
  {
   "cell_type": "markdown",
   "id": "ee18139b",
   "metadata": {},
   "source": [
    "### Dataloader"
   ]
  },
  {
   "cell_type": "code",
   "execution_count": 14,
   "id": "6d146ddb",
   "metadata": {
    "execution": {
     "iopub.execute_input": "2024-03-25T10:34:58.672910Z",
     "iopub.status.busy": "2024-03-25T10:34:58.672512Z",
     "iopub.status.idle": "2024-03-25T10:34:58.681958Z",
     "shell.execute_reply": "2024-03-25T10:34:58.681006Z",
     "shell.execute_reply.started": "2024-03-25T10:34:58.672880Z"
    }
   },
   "outputs": [],
   "source": [
    "class Data_Processing(object):\n",
    "    def __init__(self, tokenizer, dataframe):\n",
    "        self.tokenizer = tokenizer\n",
    "        self.dataframe = dataframe\n",
    "        # Nomi delle colonne codificati direttamente nella classe\n",
    "        self.text_column_name = 'Text'  # Sostituisci con il nome effettivo della colonna\n",
    "        self.label_column_name = 'Category_OneHot'  # Sostituisci con il nome effettivo della colonna\n",
    "\n",
    "    def __getitem__(self, idx):\n",
    "        # Accede direttamente alla riga del DataFrame utilizzando l'indice\n",
    "        row = self.dataframe.iloc[idx]\n",
    "\n",
    "        comment_text = str(row[self.text_column_name])\n",
    "        comment_text = \" \".join(comment_text.split())\n",
    "\n",
    "        inputs = self.tokenizer.encode_plus(\n",
    "            comment_text,\n",
    "            add_special_tokens=True,\n",
    "            max_length=1024,\n",
    "            padding='max_length',\n",
    "            return_attention_mask=True,\n",
    "            truncation=True,\n",
    "            return_tensors='pt'\n",
    "        )\n",
    "\n",
    "        input_ids = inputs['input_ids'].squeeze()  # Rimuove l'eventuale dimensione extra\n",
    "        attention_mask = inputs['attention_mask'].squeeze()\n",
    "        labels_ = torch.tensor(row[self.label_column_name], dtype=torch.float)\n",
    "\n",
    "        return {\n",
    "            'input_ids': input_ids,\n",
    "            'attention_mask': attention_mask,\n",
    "            'labels': labels_,\n",
    "            'id_': row.name  # `row.name` contiene l'indice della riga\n",
    "        }\n",
    "\n",
    "    def __len__(self):\n",
    "        return len(self.dataframe)\n",
    "\n",
    " \n",
    "    \n",
    "batch_size = 2"
   ]
  },
  {
   "cell_type": "code",
   "execution_count": 5,
   "id": "631ac0dc",
   "metadata": {
    "execution": {
     "iopub.execute_input": "2024-03-25T19:39:39.130652Z",
     "iopub.status.busy": "2024-03-25T19:39:39.129761Z",
     "iopub.status.idle": "2024-03-25T19:39:44.447868Z",
     "shell.execute_reply": "2024-03-25T19:39:44.447054Z",
     "shell.execute_reply.started": "2024-03-25T19:39:39.130620Z"
    }
   },
   "outputs": [
    {
     "data": {
      "application/vnd.jupyter.widget-view+json": {
       "model_id": "b37470a9676d40e7971d1e7be14c361c",
       "version_major": 2,
       "version_minor": 0
      },
      "text/plain": [
       "config.json:   0%|          | 0.00/694 [00:00<?, ?B/s]"
      ]
     },
     "metadata": {},
     "output_type": "display_data"
    },
    {
     "data": {
      "application/vnd.jupyter.widget-view+json": {
       "model_id": "a77755aa8a714c0fa44adb7d7a08e85b",
       "version_major": 2,
       "version_minor": 0
      },
      "text/plain": [
       "vocab.json:   0%|          | 0.00/899k [00:00<?, ?B/s]"
      ]
     },
     "metadata": {},
     "output_type": "display_data"
    },
    {
     "data": {
      "application/vnd.jupyter.widget-view+json": {
       "model_id": "6f893d2087c24269b4af801f04afe2aa",
       "version_major": 2,
       "version_minor": 0
      },
      "text/plain": [
       "merges.txt:   0%|          | 0.00/456k [00:00<?, ?B/s]"
      ]
     },
     "metadata": {},
     "output_type": "display_data"
    },
    {
     "data": {
      "application/vnd.jupyter.widget-view+json": {
       "model_id": "2b4d5dfa8c8042869d546087843fe2be",
       "version_major": 2,
       "version_minor": 0
      },
      "text/plain": [
       "tokenizer.json:   0%|          | 0.00/1.36M [00:00<?, ?B/s]"
      ]
     },
     "metadata": {},
     "output_type": "display_data"
    }
   ],
   "source": [
    "tokenizer = AutoTokenizer.from_pretrained('allenai/longformer-base-4096',padding = 'max_length',truncation=True,max_length = 1024)"
   ]
  },
  {
   "cell_type": "code",
   "execution_count": 111,
   "id": "79dfddfd",
   "metadata": {
    "colab": {
     "base_uri": "https://localhost:8080/"
    },
    "execution": {
     "iopub.execute_input": "2024-03-25T12:26:32.088698Z",
     "iopub.status.busy": "2024-03-25T12:26:32.087979Z",
     "iopub.status.idle": "2024-03-25T12:26:32.163323Z",
     "shell.execute_reply": "2024-03-25T12:26:32.162191Z",
     "shell.execute_reply.started": "2024-03-25T12:26:32.088666Z"
    },
    "id": "Q6MOKwdqj0Hr",
    "outputId": "aa446cdf-75a8-4739-e713-e804c0bd6d8f"
   },
   "outputs": [
    {
     "ename": "NameError",
     "evalue": "name 'df' is not defined",
     "output_type": "error",
     "traceback": [
      "\u001b[0;31m---------------------------------------------------------------------------\u001b[0m",
      "\u001b[0;31mNameError\u001b[0m                                 Traceback (most recent call last)",
      "Cell \u001b[0;32mIn[111], line 45\u001b[0m\n\u001b[1;32m     42\u001b[0m batch_size \u001b[38;5;241m=\u001b[39m \u001b[38;5;241m2\u001b[39m\n\u001b[1;32m     43\u001b[0m \u001b[38;5;28;01mfrom\u001b[39;00m \u001b[38;5;21;01msklearn\u001b[39;00m\u001b[38;5;21;01m.\u001b[39;00m\u001b[38;5;21;01mmodel_selection\u001b[39;00m \u001b[38;5;28;01mimport\u001b[39;00m train_test_split\n\u001b[0;32m---> 45\u001b[0m train_dataset, test_dataset \u001b[38;5;241m=\u001b[39m train_test_split(\u001b[43mdf\u001b[49m\u001b[38;5;241m.\u001b[39msample(\u001b[38;5;241m20000\u001b[39m), test_size\u001b[38;5;241m=\u001b[39m\u001b[38;5;241m0.1\u001b[39m, random_state\u001b[38;5;241m=\u001b[39m\u001b[38;5;241m42\u001b[39m)\n\u001b[1;32m     46\u001b[0m train_dataset, val_dataset \u001b[38;5;241m=\u001b[39m train_test_split(train_dataset, test_size\u001b[38;5;241m=\u001b[39m\u001b[38;5;241m0.1\u001b[39m, random_state\u001b[38;5;241m=\u001b[39m\u001b[38;5;241m42\u001b[39m)\n\u001b[1;32m     48\u001b[0m \u001b[38;5;66;03m# Modifica i DataFrame in-place, quindi non c'è bisogno di riassegnare\u001b[39;00m\n",
      "\u001b[0;31mNameError\u001b[0m: name 'df' is not defined"
     ]
    }
   ],
   "source": [
    "\n",
    "from sklearn.model_selection import train_test_split\n",
    "\n",
    "train_dataset, test_dataset = train_test_split(df.sample(20000), test_size=0.1, random_state=42)\n",
    "train_dataset, val_dataset = train_test_split(train_dataset, test_size=0.1, random_state=42)\n",
    "\n",
    "train_dataset.reset_index(drop=True, inplace=True)\n",
    "test_dataset.reset_index(drop=True, inplace=True)\n",
    "val_dataset.reset_index(drop=True, inplace=True)\n",
    "\n",
    "\n",
    "\n",
    "tokenizer = AutoTokenizer.from_pretrained('allenai/longformer-base-4096',padding = 'max_length',truncation=True,max_length = 1024)\n",
    "\n",
    "train_dataset\n",
    "train_dataset.to_csv(\"/kaggle/working//train_data_csv\")\n",
    "test_dataset.to_csv(\"/kaggle/working/test_data_csv\")\n",
    "val_dataset.to_csv(\"/kaggle/working/val_data_csv\")\n",
    "training_data = Data_Processing( tokenizer=tokenizer,dataframe=train_dataset )\n",
    "test_data = Data_Processing( tokenizer=tokenizer,dataframe=test_dataset )\n",
    "val_data = Data_Processing( tokenizer=tokenizer,dataframe=val_dataset )\n",
    "\n",
    "\n",
    "dataloaders_dict = {'train': DataLoader(training_data, batch_size=batch_size, shuffle=True, num_workers=4),\n",
    "                    'val': DataLoader(test_data, batch_size=batch_size, shuffle=True, num_workers=4),\n",
    "                    'test': DataLoader(val_data, batch_size=batch_size, shuffle=True, num_workers=4)\n",
    "                    \n",
    "                   }\n",
    "\n",
    "dataset_sizes = {'train':len(training_data),\n",
    "                 'val':len(test_data),\n",
    "                 'test':len(test_data)\n",
    "                }\n",
    "\n",
    "\n"
   ]
  },
  {
   "cell_type": "code",
   "execution_count": 20,
   "id": "c8a10c16",
   "metadata": {
    "execution": {
     "iopub.execute_input": "2024-03-25T19:45:14.410699Z",
     "iopub.status.busy": "2024-03-25T19:45:14.410304Z",
     "iopub.status.idle": "2024-03-25T19:45:14.415853Z",
     "shell.execute_reply": "2024-03-25T19:45:14.414659Z",
     "shell.execute_reply.started": "2024-03-25T19:45:14.410670Z"
    }
   },
   "outputs": [],
   "source": [
    "device = torch.device(\"cuda:0\" if torch.cuda.is_available() else \"cpu\")"
   ]
  },
  {
   "cell_type": "markdown",
   "id": "67491293",
   "metadata": {},
   "source": [
    "### Instanza del modello , passiamo il numero di classi e la finestra di attenzione "
   ]
  },
  {
   "cell_type": "code",
   "execution_count": 6,
   "id": "151c04df",
   "metadata": {
    "colab": {
     "base_uri": "https://localhost:8080/"
    },
    "execution": {
     "iopub.execute_input": "2024-03-25T19:39:47.528448Z",
     "iopub.status.busy": "2024-03-25T19:39:47.528078Z",
     "iopub.status.idle": "2024-03-25T19:40:21.608583Z",
     "shell.execute_reply": "2024-03-25T19:40:21.607651Z",
     "shell.execute_reply.started": "2024-03-25T19:39:47.528420Z"
    },
    "id": "ZEtb6lIHo--c",
    "outputId": "0baecd57-ab78-4511-b86a-b4b677249262"
   },
   "outputs": [
    {
     "data": {
      "application/vnd.jupyter.widget-view+json": {
       "model_id": "edaef5c986b74b3fb2a3328993371586",
       "version_major": 2,
       "version_minor": 0
      },
      "text/plain": [
       "pytorch_model.bin:   0%|          | 0.00/597M [00:00<?, ?B/s]"
      ]
     },
     "metadata": {},
     "output_type": "display_data"
    },
    {
     "name": "stderr",
     "output_type": "stream",
     "text": [
      "/opt/conda/lib/python3.10/site-packages/torch/_utils.py:831: UserWarning: TypedStorage is deprecated. It will be removed in the future and UntypedStorage will be the only storage class. This should only matter to you if you are using storages directly.  To access UntypedStorage directly, use tensor.untyped_storage() instead of tensor.storage()\n",
      "  return self.fget.__get__(instance, owner)()\n",
      "Some weights of LongformerForMultiLabelSequenceClassification were not initialized from the model checkpoint at allenai/longformer-base-4096 and are newly initialized: ['classifier.dense.bias', 'classifier.dense.weight', 'classifier.out_proj.bias', 'classifier.out_proj.weight']\n",
      "You should probably TRAIN this model on a down-stream task to be able to use it for predictions and inference.\n"
     ]
    }
   ],
   "source": [
    "model = LongformerForMultiLabelSequenceClassification.from_pretrained('allenai/longformer-base-4096',\n",
    "                                                  gradient_checkpointing=False,\n",
    "                                                  attention_window = 512,\n",
    "                                                  num_labels = 5,\n",
    "                                                  return_dict=True)\n"
   ]
  },
  {
   "cell_type": "markdown",
   "id": "325b19f1",
   "metadata": {},
   "source": [
    "### Metriche "
   ]
  },
  {
   "cell_type": "code",
   "execution_count": null,
   "id": "9d412be0",
   "metadata": {},
   "outputs": [],
   "source": [
    "\n",
    "def multi_label_metrics(\n",
    "    predictions,\n",
    "    labels,\n",
    "    ):\n",
    "    sigmoid = torch.nn.Sigmoid()\n",
    "    probs = sigmoid(torch.Tensor(predictions))\n",
    "    y_pred = np.zeros(probs.shape)\n",
    "    y_true = labels\n",
    "    y_pred[np.where(probs >= 0.5)] = 1\n",
    "    f1_micro_average = f1_score(y_true=y_true, y_pred=y_pred, average='micro')\n",
    "    roc_auc = roc_auc_score(y_true, y_pred, average = 'micro')\n",
    "    accuracy = accuracy_score(y_true, y_pred)\n",
    "    metrics = {'f1': f1_micro_average,\n",
    "               'roc_auc': roc_auc,\n",
    "               'accuracy': accuracy}\n",
    "    return metrics\n",
    "\n",
    "\n",
    "def compute_metrics(p: EvalPrediction):\n",
    "    preds = p.predictions[0] if isinstance(p.predictions, tuple) else p.predictions\n",
    "    result = multi_label_metrics(predictions=preds, labels=p.label_ids)\n",
    "    return result\n"
   ]
  },
  {
   "cell_type": "markdown",
   "id": "6866fef9",
   "metadata": {},
   "source": [
    "### Allenamento"
   ]
  },
  {
   "cell_type": "code",
   "execution_count": 15,
   "id": "b9860ec5",
   "metadata": {
    "execution": {
     "iopub.execute_input": "2024-03-24T19:49:17.740371Z",
     "iopub.status.busy": "2024-03-24T19:49:17.739474Z",
     "iopub.status.idle": "2024-03-25T01:43:58.197224Z",
     "shell.execute_reply": "2024-03-25T01:43:58.196351Z",
     "shell.execute_reply.started": "2024-03-24T19:49:17.740334Z"
    }
   },
   "outputs": [
    {
     "data": {
      "text/html": [
       "\n",
       "    <div>\n",
       "      \n",
       "      <progress value='20250' max='20250' style='width:300px; height:20px; vertical-align: middle;'></progress>\n",
       "      [20250/20250 5:54:38, Epoch 5/5]\n",
       "    </div>\n",
       "    <table border=\"1\" class=\"dataframe\">\n",
       "  <thead>\n",
       " <tr style=\"text-align: left;\">\n",
       "      <th>Epoch</th>\n",
       "      <th>Training Loss</th>\n",
       "      <th>Validation Loss</th>\n",
       "      <th>F1</th>\n",
       "      <th>Roc Auc</th>\n",
       "      <th>Accuracy</th>\n",
       "    </tr>\n",
       "  </thead>\n",
       "  <tbody>\n",
       "    <tr>\n",
       "      <td>1</td>\n",
       "      <td>0.170800</td>\n",
       "      <td>0.183865</td>\n",
       "      <td>0.874375</td>\n",
       "      <td>0.921319</td>\n",
       "      <td>0.873889</td>\n",
       "    </tr>\n",
       "    <tr>\n",
       "      <td>2</td>\n",
       "      <td>0.183000</td>\n",
       "      <td>0.189403</td>\n",
       "      <td>0.869541</td>\n",
       "      <td>0.918056</td>\n",
       "      <td>0.868333</td>\n",
       "    </tr>\n",
       "    <tr>\n",
       "      <td>3</td>\n",
       "      <td>0.163900</td>\n",
       "      <td>0.167383</td>\n",
       "      <td>0.876047</td>\n",
       "      <td>0.921042</td>\n",
       "      <td>0.871667</td>\n",
       "    </tr>\n",
       "    <tr>\n",
       "      <td>4</td>\n",
       "      <td>0.145500</td>\n",
       "      <td>0.181163</td>\n",
       "      <td>0.879666</td>\n",
       "      <td>0.923958</td>\n",
       "      <td>0.877222</td>\n",
       "    </tr>\n",
       "    <tr>\n",
       "      <td>5</td>\n",
       "      <td>0.092700</td>\n",
       "      <td>0.168075</td>\n",
       "      <td>0.883380</td>\n",
       "      <td>0.922917</td>\n",
       "      <td>0.871111</td>\n",
       "    </tr>\n",
       "  </tbody>\n",
       "</table><p>"
      ],
      "text/plain": [
       "<IPython.core.display.HTML object>"
      ]
     },
     "metadata": {},
     "output_type": "display_data"
    }
   ],
   "source": [
    "\n",
    "from transformers import TrainingArguments, Trainer\n",
    "\n",
    "\n",
    "training_args = TrainingArguments(\n",
    "    output_dir='kaggle/working/results', \n",
    "    num_train_epochs=5,\n",
    "    per_device_train_batch_size=4,\n",
    "    per_device_eval_batch_size=4,\n",
    "    warmup_steps=500,\n",
    "    weight_decay=0.01,\n",
    "    logging_dir='/kaggle/working/logs',\n",
    "    logging_strategy=\"steps\",\n",
    "    logging_steps=50, \n",
    "    save_strategy=\"epoch\", \n",
    "    evaluation_strategy=\"epoch\",  \n",
    "    load_best_model_at_end=True\n",
    ")\n",
    "\n",
    "\n",
    "trainer = Trainer(\n",
    "    model=model,\n",
    "    args=training_args,\n",
    "    train_dataset=training_data,  \n",
    "    eval_dataset=val_data,  \n",
    "    compute_metrics=compute_metrics,  \n",
    ")\n",
    "\n",
    "trainer.train()\n",
    "\n",
    "device = 'cuda' if torch.cuda.is_available() else 'cpu'\n",
    "\n",
    "\n"
   ]
  },
  {
   "cell_type": "code",
   "execution_count": 16,
   "id": "0fc2a890",
   "metadata": {
    "execution": {
     "iopub.execute_input": "2024-03-25T01:43:58.199559Z",
     "iopub.status.busy": "2024-03-25T01:43:58.199264Z",
     "iopub.status.idle": "2024-03-25T01:46:02.612543Z",
     "shell.execute_reply": "2024-03-25T01:46:02.611547Z",
     "shell.execute_reply.started": "2024-03-25T01:43:58.199534Z"
    }
   },
   "outputs": [
    {
     "data": {
      "text/html": [],
      "text/plain": [
       "<IPython.core.display.HTML object>"
      ]
     },
     "metadata": {},
     "output_type": "display_data"
    },
    {
     "data": {
      "text/plain": [
       "{'eval_loss': 0.16738289594650269,\n",
       " 'eval_f1': 0.8760469011725294,\n",
       " 'eval_roc_auc': 0.9210416666666666,\n",
       " 'eval_accuracy': 0.8716666666666667,\n",
       " 'eval_runtime': 123.5251,\n",
       " 'eval_samples_per_second': 14.572,\n",
       " 'eval_steps_per_second': 3.643,\n",
       " 'epoch': 5.0}"
      ]
     },
     "execution_count": 16,
     "metadata": {},
     "output_type": "execute_result"
    }
   ],
   "source": [
    "model.save_pretrained(\"./best_model\")\n",
    "\n",
    "trainer.evaluate()\n",
    "test_results = trainer.predict(test_data)\n"
   ]
  },
  {
   "cell_type": "code",
   "execution_count": null,
   "id": "0aa05a16",
   "metadata": {},
   "outputs": [],
   "source": [
    "predictions = trainer.predict(training_data)\n",
    "\n",
    "\n",
    "probabilities = torch.nn.functional.softmax(torch.tensor(predictions.predictions), dim=-1)\n",
    "\n",
    "\n",
    "predicted_labels = np.argmax(probabilities, axis=1)"
   ]
  },
  {
   "cell_type": "markdown",
   "id": "5055fac5",
   "metadata": {},
   "source": [
    "### Fase di Test"
   ]
  },
  {
   "cell_type": "code",
   "execution_count": 33,
   "id": "891af65a",
   "metadata": {
    "execution": {
     "iopub.execute_input": "2024-03-25T10:53:01.254427Z",
     "iopub.status.busy": "2024-03-25T10:53:01.253713Z",
     "iopub.status.idle": "2024-03-25T10:53:01.349923Z",
     "shell.execute_reply": "2024-03-25T10:53:01.349207Z",
     "shell.execute_reply.started": "2024-03-25T10:53:01.254395Z"
    }
   },
   "outputs": [],
   "source": [
    "test_dataset = pd.read_csv(\"/kaggle/working/test_data_csv\")\n",
    "train_dataset = pd.read_csv(\"/kaggle/working//train_data_csv\")\n",
    "training_data = Data_Processing( tokenizer=tokenizer,dataframe=train_dataset )\n",
    "test_data = Data_Processing( tokenizer=tokenizer,dataframe=test_dataset )\n",
    "\n",
    "val_dataset = pd.read_csv(\"/kaggle/working/val_data_csv\")\n",
    "val_data = Data_Processing( tokenizer=tokenizer,dataframe=val_dataset )\n"
   ]
  },
  {
   "cell_type": "code",
   "execution_count": 7,
   "id": "1968a95f",
   "metadata": {
    "execution": {
     "iopub.execute_input": "2024-03-25T19:40:21.610447Z",
     "iopub.status.busy": "2024-03-25T19:40:21.610117Z",
     "iopub.status.idle": "2024-03-25T19:40:21.903920Z",
     "shell.execute_reply": "2024-03-25T19:40:21.902881Z",
     "shell.execute_reply.started": "2024-03-25T19:40:21.610421Z"
    }
   },
   "outputs": [],
   "source": [
    "model = LongformerForMultiLabelSequenceClassification.from_pretrained(\"/kaggle/working/best_model\")"
   ]
  },
  {
   "cell_type": "code",
   "execution_count": 8,
   "id": "e23fa2f4",
   "metadata": {
    "execution": {
     "iopub.execute_input": "2024-03-25T19:40:27.448679Z",
     "iopub.status.busy": "2024-03-25T19:40:27.447974Z",
     "iopub.status.idle": "2024-03-25T19:40:27.990914Z",
     "shell.execute_reply": "2024-03-25T19:40:27.990088Z",
     "shell.execute_reply.started": "2024-03-25T19:40:27.448650Z"
    }
   },
   "outputs": [],
   "source": [
    "test  = pd.read_csv(\"/kaggle/input/longformere/dataset_Longformer.csv\")"
   ]
  },
  {
   "cell_type": "code",
   "execution_count": 9,
   "id": "620ef92a",
   "metadata": {
    "execution": {
     "iopub.execute_input": "2024-03-25T19:40:30.210357Z",
     "iopub.status.busy": "2024-03-25T19:40:30.209596Z",
     "iopub.status.idle": "2024-03-25T19:40:30.214960Z",
     "shell.execute_reply": "2024-03-25T19:40:30.213890Z",
     "shell.execute_reply.started": "2024-03-25T19:40:30.210321Z"
    }
   },
   "outputs": [],
   "source": [
    "category_to_index = {'business': 0, 'other': 1, 'politics': 2, 'sport': 3, 'tech': 4}\n",
    "num_categories = len(category_to_index)"
   ]
  },
  {
   "cell_type": "code",
   "execution_count": 10,
   "id": "bafaf8ce",
   "metadata": {
    "execution": {
     "iopub.execute_input": "2024-03-25T19:40:39.409154Z",
     "iopub.status.busy": "2024-03-25T19:40:39.408776Z",
     "iopub.status.idle": "2024-03-25T19:40:39.519027Z",
     "shell.execute_reply": "2024-03-25T19:40:39.518014Z",
     "shell.execute_reply.started": "2024-03-25T19:40:39.409125Z"
    }
   },
   "outputs": [
    {
     "data": {
      "text/html": [
       "<div>\n",
       "<style scoped>\n",
       "    .dataframe tbody tr th:only-of-type {\n",
       "        vertical-align: middle;\n",
       "    }\n",
       "\n",
       "    .dataframe tbody tr th {\n",
       "        vertical-align: top;\n",
       "    }\n",
       "\n",
       "    .dataframe thead th {\n",
       "        text-align: right;\n",
       "    }\n",
       "</style>\n",
       "<table border=\"1\" class=\"dataframe\">\n",
       "  <thead>\n",
       "    <tr style=\"text-align: right;\">\n",
       "      <th></th>\n",
       "      <th>Text</th>\n",
       "      <th>Category</th>\n",
       "      <th>df_index</th>\n",
       "      <th>lunghezza_testo</th>\n",
       "      <th>One_Hot_Category</th>\n",
       "    </tr>\n",
       "  </thead>\n",
       "  <tbody>\n",
       "    <tr>\n",
       "      <th>0</th>\n",
       "      <td>A new Internet advertising forecast shows a sl...</td>\n",
       "      <td>business</td>\n",
       "      <td>3</td>\n",
       "      <td>167</td>\n",
       "      <td>[1.0, 0.0, 0.0, 0.0, 0.0]</td>\n",
       "    </tr>\n",
       "    <tr>\n",
       "      <th>1</th>\n",
       "      <td>Shares in animation giant Pixar set new record...</td>\n",
       "      <td>business</td>\n",
       "      <td>3</td>\n",
       "      <td>104</td>\n",
       "      <td>[1.0, 0.0, 0.0, 0.0, 0.0]</td>\n",
       "    </tr>\n",
       "    <tr>\n",
       "      <th>2</th>\n",
       "      <td>LAGOS (AFP) - The Nigerian Labour Congress (NL...</td>\n",
       "      <td>politics</td>\n",
       "      <td>3</td>\n",
       "      <td>241</td>\n",
       "      <td>[0.0, 0.0, 1.0, 0.0, 0.0]</td>\n",
       "    </tr>\n",
       "    <tr>\n",
       "      <th>3</th>\n",
       "      <td>AP - Orders to U.S. factories for big-ticket g...</td>\n",
       "      <td>business</td>\n",
       "      <td>3</td>\n",
       "      <td>145</td>\n",
       "      <td>[1.0, 0.0, 0.0, 0.0, 0.0]</td>\n",
       "    </tr>\n",
       "    <tr>\n",
       "      <th>4</th>\n",
       "      <td>A military court sentenced Staff Sgt. Ivan Fre...</td>\n",
       "      <td>politics</td>\n",
       "      <td>3</td>\n",
       "      <td>161</td>\n",
       "      <td>[0.0, 0.0, 1.0, 0.0, 0.0]</td>\n",
       "    </tr>\n",
       "    <tr>\n",
       "      <th>...</th>\n",
       "      <td>...</td>\n",
       "      <td>...</td>\n",
       "      <td>...</td>\n",
       "      <td>...</td>\n",
       "      <td>...</td>\n",
       "    </tr>\n",
       "    <tr>\n",
       "      <th>80495</th>\n",
       "      <td>BAGHDAD -- US troops sweeping through Fallujah...</td>\n",
       "      <td>politics</td>\n",
       "      <td>3</td>\n",
       "      <td>275</td>\n",
       "      <td>[0.0, 0.0, 1.0, 0.0, 0.0]</td>\n",
       "    </tr>\n",
       "    <tr>\n",
       "      <th>80496</th>\n",
       "      <td>InfoWorld - The Object Management Group (OMG) ...</td>\n",
       "      <td>tech</td>\n",
       "      <td>3</td>\n",
       "      <td>360</td>\n",
       "      <td>[0.0, 0.0, 0.0, 0.0, 1.0]</td>\n",
       "    </tr>\n",
       "    <tr>\n",
       "      <th>80497</th>\n",
       "      <td>Payless ShoeSource beats analyst estimates, bu...</td>\n",
       "      <td>business</td>\n",
       "      <td>3</td>\n",
       "      <td>75</td>\n",
       "      <td>[1.0, 0.0, 0.0, 0.0, 0.0]</td>\n",
       "    </tr>\n",
       "    <tr>\n",
       "      <th>80498</th>\n",
       "      <td>IRAQS national election campaign kicked off ye...</td>\n",
       "      <td>politics</td>\n",
       "      <td>3</td>\n",
       "      <td>197</td>\n",
       "      <td>[0.0, 0.0, 1.0, 0.0, 0.0]</td>\n",
       "    </tr>\n",
       "    <tr>\n",
       "      <th>80499</th>\n",
       "      <td>DAVID Bellion scored after 19 seconds as Manch...</td>\n",
       "      <td>sport</td>\n",
       "      <td>3</td>\n",
       "      <td>193</td>\n",
       "      <td>[0.0, 0.0, 0.0, 1.0, 0.0]</td>\n",
       "    </tr>\n",
       "  </tbody>\n",
       "</table>\n",
       "<p>80500 rows × 5 columns</p>\n",
       "</div>"
      ],
      "text/plain": [
       "                                                    Text  Category  df_index  \\\n",
       "0      A new Internet advertising forecast shows a sl...  business         3   \n",
       "1      Shares in animation giant Pixar set new record...  business         3   \n",
       "2      LAGOS (AFP) - The Nigerian Labour Congress (NL...  politics         3   \n",
       "3      AP - Orders to U.S. factories for big-ticket g...  business         3   \n",
       "4      A military court sentenced Staff Sgt. Ivan Fre...  politics         3   \n",
       "...                                                  ...       ...       ...   \n",
       "80495  BAGHDAD -- US troops sweeping through Fallujah...  politics         3   \n",
       "80496  InfoWorld - The Object Management Group (OMG) ...      tech         3   \n",
       "80497  Payless ShoeSource beats analyst estimates, bu...  business         3   \n",
       "80498  IRAQS national election campaign kicked off ye...  politics         3   \n",
       "80499  DAVID Bellion scored after 19 seconds as Manch...     sport         3   \n",
       "\n",
       "       lunghezza_testo           One_Hot_Category  \n",
       "0                  167  [1.0, 0.0, 0.0, 0.0, 0.0]  \n",
       "1                  104  [1.0, 0.0, 0.0, 0.0, 0.0]  \n",
       "2                  241  [0.0, 0.0, 1.0, 0.0, 0.0]  \n",
       "3                  145  [1.0, 0.0, 0.0, 0.0, 0.0]  \n",
       "4                  161  [0.0, 0.0, 1.0, 0.0, 0.0]  \n",
       "...                ...                        ...  \n",
       "80495              275  [0.0, 0.0, 1.0, 0.0, 0.0]  \n",
       "80496              360  [0.0, 0.0, 0.0, 0.0, 1.0]  \n",
       "80497               75  [1.0, 0.0, 0.0, 0.0, 0.0]  \n",
       "80498              197  [0.0, 0.0, 1.0, 0.0, 0.0]  \n",
       "80499              193  [0.0, 0.0, 0.0, 1.0, 0.0]  \n",
       "\n",
       "[80500 rows x 5 columns]"
      ]
     },
     "execution_count": 10,
     "metadata": {},
     "output_type": "execute_result"
    }
   ],
   "source": [
    "def category_to_onehot(category):\n",
    "    one_hot = np.zeros(num_categories)\n",
    "    one_hot[category_to_index[category]] = 1\n",
    "    return one_hot\n",
    "\n",
    "test['One_Hot_Category'] = test['Category'].apply(category_to_onehot)\n",
    "\n",
    "\n",
    "test"
   ]
  },
  {
   "cell_type": "code",
   "execution_count": 338,
   "id": "71992442",
   "metadata": {
    "execution": {
     "iopub.execute_input": "2024-03-25T16:34:13.924007Z",
     "iopub.status.busy": "2024-03-25T16:34:13.923748Z",
     "iopub.status.idle": "2024-03-25T16:34:22.912783Z",
     "shell.execute_reply": "2024-03-25T16:34:22.911989Z",
     "shell.execute_reply.started": "2024-03-25T16:34:13.923985Z"
    }
   },
   "outputs": [],
   "source": [
    "test.to_csv(\"test_longformer_one_hot.csv\",index = False)"
   ]
  },
  {
   "cell_type": "markdown",
   "id": "56294359",
   "metadata": {},
   "source": [
    "### DataLoader"
   ]
  },
  {
   "cell_type": "code",
   "execution_count": 11,
   "id": "79f61e1a",
   "metadata": {
    "execution": {
     "iopub.execute_input": "2024-03-25T19:40:56.988165Z",
     "iopub.status.busy": "2024-03-25T19:40:56.987199Z",
     "iopub.status.idle": "2024-03-25T19:40:56.995068Z",
     "shell.execute_reply": "2024-03-25T19:40:56.993984Z",
     "shell.execute_reply.started": "2024-03-25T19:40:56.988134Z"
    }
   },
   "outputs": [],
   "source": [
    "class PredictionDataset(Dataset):\n",
    "    def __init__(self, texts, tokenizer, max_length=512):\n",
    "        self.texts = texts\n",
    "        self.tokenizer = tokenizer\n",
    "        self.max_length = max_length\n",
    "    \n",
    "    def __len__(self):\n",
    "        return len(self.texts)\n",
    "    \n",
    "    def __getitem__(self, idx):\n",
    "        text = self.texts[idx]\n",
    "        inputs = self.tokenizer(\n",
    "            text, \n",
    "            return_tensors=\"pt\", \n",
    "            padding=\"max_length\", \n",
    "            truncation=True, \n",
    "            max_length=self.max_length\n",
    "        )\n",
    "        # Trasformare il dizionario in un formato che non ha la dimensione del batch\n",
    "        return {key: value.squeeze(0) for key, value in inputs.items()}\n",
    "    "
   ]
  },
  {
   "cell_type": "code",
   "execution_count": 35,
   "id": "8442790f",
   "metadata": {
    "execution": {
     "iopub.execute_input": "2024-03-25T19:59:25.733338Z",
     "iopub.status.busy": "2024-03-25T19:59:25.732562Z",
     "iopub.status.idle": "2024-03-25T19:59:25.739253Z",
     "shell.execute_reply": "2024-03-25T19:59:25.738207Z",
     "shell.execute_reply.started": "2024-03-25T19:59:25.733306Z"
    }
   },
   "outputs": [],
   "source": [
    "test_dataset_for_evaluation = test.head(10000)\n",
    "    \n",
    "prediction_dataset = PredictionDataset(texts=test_dataset_for_evaluation[\"Text\"].tolist(), tokenizer=tokenizer, max_length=1024)\n",
    "prediction_dataloader = DataLoader(prediction_dataset, batch_size=16, shuffle=False)\n"
   ]
  },
  {
   "cell_type": "code",
   "execution_count": 37,
   "id": "4df9792b",
   "metadata": {
    "execution": {
     "iopub.execute_input": "2024-03-25T20:01:16.273721Z",
     "iopub.status.busy": "2024-03-25T20:01:16.273313Z",
     "iopub.status.idle": "2024-03-25T20:11:31.187717Z",
     "shell.execute_reply": "2024-03-25T20:11:31.186541Z",
     "shell.execute_reply.started": "2024-03-25T20:01:16.273690Z"
    }
   },
   "outputs": [],
   "source": [
    "model.eval()  \n",
    "predictions = []\n",
    "model.to(device)\n",
    "with torch.no_grad():\n",
    "    for batch in prediction_dataloader:\n",
    "\n",
    "        batch = {k: v.to(device) for k, v in batch.items()}\n",
    "        \n",
    "        # Aggiungi qui la logica per la global_attention_mask se necessario\n",
    "        global_attention_mask = torch.zeros_like(batch['input_ids'])\n",
    "        global_attention_mask[:, 0] = 1  \n",
    "        global_attention_mask = global_attention_mask.to(device)\n",
    "        \n",
    "\n",
    "        outputs = model(**batch, global_attention_mask=global_attention_mask)\n",
    "        batch_predictions = torch.nn.functional.softmax(outputs[0], dim=-1)\n",
    "        \n",
    "        predictions.append(batch_predictions.cpu())\n",
    "\n",
    "\n",
    "predictions = torch.cat(predictions, dim=0)\n",
    "\n",
    "\n",
    "predicted_class_ids = torch.argmax(predictions, axis=1).numpy()\n"
   ]
  },
  {
   "cell_type": "code",
   "execution_count": 38,
   "id": "35f372d4",
   "metadata": {
    "execution": {
     "iopub.execute_input": "2024-03-25T20:11:31.189976Z",
     "iopub.status.busy": "2024-03-25T20:11:31.189641Z",
     "iopub.status.idle": "2024-03-25T20:11:31.194914Z",
     "shell.execute_reply": "2024-03-25T20:11:31.193959Z",
     "shell.execute_reply.started": "2024-03-25T20:11:31.189949Z"
    }
   },
   "outputs": [],
   "source": [
    "true_label_test  = test_dataset_for_evaluation[\"One_Hot_Category\"]"
   ]
  },
  {
   "cell_type": "code",
   "execution_count": 39,
   "id": "5106581e",
   "metadata": {
    "execution": {
     "iopub.execute_input": "2024-03-25T20:11:31.196306Z",
     "iopub.status.busy": "2024-03-25T20:11:31.196023Z",
     "iopub.status.idle": "2024-03-25T20:11:31.227096Z",
     "shell.execute_reply": "2024-03-25T20:11:31.226167Z",
     "shell.execute_reply.started": "2024-03-25T20:11:31.196283Z"
    }
   },
   "outputs": [],
   "source": [
    "\n",
    "labels = ['business', 'other', 'politics', 'sport', 'tech']\n",
    "\n",
    "labels_index = [category_to_index[label] for label in labels]\n",
    "num_classes = 5  \n",
    "\n",
    "\n",
    "predicted_one_hot = np.eye(num_classes)[predicted_class_ids]\n",
    "true_one_hot = np.array(true_label_test)\n",
    "true_one_hot_2d = np.array(true_one_hot)\n",
    "true_one_hot_2d = np.vstack(true_one_hot_2d)"
   ]
  },
  {
   "cell_type": "code",
   "execution_count": 40,
   "id": "29282b19",
   "metadata": {
    "execution": {
     "iopub.execute_input": "2024-03-25T20:12:19.850312Z",
     "iopub.status.busy": "2024-03-25T20:12:19.849402Z",
     "iopub.status.idle": "2024-03-25T20:12:19.869606Z",
     "shell.execute_reply": "2024-03-25T20:12:19.868712Z",
     "shell.execute_reply.started": "2024-03-25T20:12:19.850276Z"
    }
   },
   "outputs": [
    {
     "name": "stdout",
     "output_type": "stream",
     "text": [
      "Accuracy: 0.8855\n",
      "Precision: 0.8733823671767708\n",
      "Recall: 0.8545310655127955\n",
      "F1 Score: 0.8624454104026953\n"
     ]
    }
   ],
   "source": [
    "from sklearn.metrics import accuracy_score, precision_score, recall_score, f1_score\n",
    "import numpy as np\n",
    "\n",
    "true_labels = np.argmax(true_one_hot_2d, axis=1)\n",
    "predicted_labels = np.argmax(predicted_one_hot, axis=1)\n",
    "\n",
    "\n",
    "accuracy = accuracy_score(true_labels, predicted_labels)\n",
    "print(f'Accuracy: {accuracy}')\n",
    "\n",
    "\n",
    "precision = precision_score(true_labels, predicted_labels, average='macro')\n",
    "print(f'Precision: {precision}')\n",
    "\n",
    "\n",
    "recall = recall_score(true_labels, predicted_labels, average='macro')\n",
    "print(f'Recall: {recall}')\n",
    "\n",
    "f1 = f1_score(true_labels, predicted_labels, average='macro')\n",
    "print(f'F1 Score: {f1}')\n"
   ]
  },
  {
   "cell_type": "code",
   "execution_count": 41,
   "id": "038195dc",
   "metadata": {
    "execution": {
     "iopub.execute_input": "2024-03-25T20:12:23.550950Z",
     "iopub.status.busy": "2024-03-25T20:12:23.550590Z",
     "iopub.status.idle": "2024-03-25T20:12:23.866797Z",
     "shell.execute_reply": "2024-03-25T20:12:23.865848Z",
     "shell.execute_reply.started": "2024-03-25T20:12:23.550924Z"
    }
   },
   "outputs": [
    {
     "data": {
      "image/png": "[encoded data removed]",
      "text/plain": [
       "<Figure size 1000x800 with 2 Axes>"
      ]
     },
     "metadata": {},
     "output_type": "display_data"
    }
   ],
   "source": [
    "from sklearn.metrics import confusion_matrix\n",
    "import numpy as np\n",
    "import matplotlib.pyplot as plt\n",
    "import seaborn as sns\n",
    "matrice_confusione = confusion_matrix(true_labels, predicted_labels)\n",
    "\n",
    "\n",
    "classi = ['business', 'other', 'politics', 'sport', 'tech']\n",
    "\n",
    "\n",
    "plt.figure(figsize=(10, 8))\n",
    "sns.heatmap(matrice_confusione, annot=True, fmt=\"d\", cmap=\"Blues\", xticklabels=classi, yticklabels=classi)\n",
    "\n",
    "\n",
    "plt.title('Matrice di Confusione')\n",
    "plt.ylabel('Vera Classe')\n",
    "plt.xlabel('Classe Predetta')\n",
    "\n",
    "\n",
    "plt.show()"
   ]
  },
  {
   "cell_type": "code",
   "execution_count": 352,
   "id": "34b02ffc",
   "metadata": {
    "execution": {
     "iopub.execute_input": "2024-03-25T16:49:28.436630Z",
     "iopub.status.busy": "2024-03-25T16:49:28.436267Z",
     "iopub.status.idle": "2024-03-25T16:49:28.520822Z",
     "shell.execute_reply": "2024-03-25T16:49:28.519732Z",
     "shell.execute_reply.started": "2024-03-25T16:49:28.436601Z"
    }
   },
   "outputs": [
    {
     "data": {
      "text/plain": [
       "tensor([4])"
      ]
     },
     "execution_count": 352,
     "metadata": {},
     "output_type": "execute_result"
    }
   ],
   "source": [
    "text = \"We ve just seen deputy PM Oliver Dowden tells MPs that China is responsible for malicious cyber campaigns targeting the Electoral Commission and MPs. The sheer size of this hack on the Electoral Commission was eye watering – 40 million people affected. But as ever with cyber-attacks, it’s the quality of data that’s more important than quantity. On that metric it was still one of the most significant hacks in history for the British public. Databases containing the names and addresses of all registered voters were able to be read and copied by hackers.The Electoral Commission played it down at the time arguing that the data was already largely in the public domain. However, it transpired that more than half of the data – so tens of millions of records weren’t publicly available at all. So make no mistake – this could have put a vast amount of private data into the hands of cyber criminals (we still don’t know if they actually did access them).However, due to the nature of this hack – for espionage, not money – the accessed data of the general public is probably less important to Chinese cyber spies. It’s likely that having been able to read the toing and froing of sensitive emails between election officials for over a year during six by-elections would have been far more valuable.No specific briefing for Tory 1922 committee - deputy PM Dowden is back on his feet insisting the UK will do what is necessary to protect the UK's systems as he answers a couple of questions raised by Labour's Pat McFadden. He says Foreign Secretary Lord Cameron s past and present relations and links with China will have been the subject of usual scrutiny. Dowden explains that the former prime minister David Cameron is due to speak to the Conservative backbench group, known as the 1922 Committee, later today on a range of issues - distancing it from a specific briefing on what has been announced this afternoon. Finally, Dowden insists should leaders of the opposition or any other Westminster party wish to have a particular briefing on this matter, then he will make himself available to do so in the normal way. \"\n",
    "inputs = tokenizer(text, return_tensors=\"pt\", padding=True, truncation=True, max_length=512)\n",
    "\n",
    "# Aggiunta della global_attention_mask\n",
    "global_attention_mask = torch.zeros_like(inputs['input_ids'])\n",
    "# Supponendo che vuoi la global attention sul primo token\n",
    "global_attention_mask[:, 0] = 1\n",
    "\n",
    "# Assicurati che tutto sia sul dispositivo giusto (ad esempio, cuda se disponibile)\n",
    "device = torch.device(\"cuda\" if torch.cuda.is_available() else \"cpu\")\n",
    "inputs = {k: v.to(device) for k, v in inputs.items()}\n",
    "global_attention_mask = global_attention_mask.to(device)\n",
    "\n",
    "# Esegui la predizione\n",
    "with torch.no_grad():\n",
    "    outputs = model(**inputs, global_attention_mask=global_attention_mask)\n",
    "    predictions = torch.nn.functional.softmax(outputs[0], dim=-1)\n",
    "predicted_class_id = np.argmax(predictions.cpu(), axis=1)\n",
    "predicted_class_id"
   ]
  },
  {
   "cell_type": "code",
   "execution_count": 1,
   "id": "4c89a70c",
   "metadata": {
    "execution": {
     "iopub.execute_input": "2024-03-25T09:13:15.560302Z",
     "iopub.status.busy": "2024-03-25T09:13:15.559918Z",
     "iopub.status.idle": "2024-03-25T09:21:47.597391Z",
     "shell.execute_reply": "2024-03-25T09:21:47.596138Z",
     "shell.execute_reply.started": "2024-03-25T09:13:15.560269Z"
    }
   },
   "outputs": [
    {
     "name": "stdout",
     "output_type": "stream",
     "text": [
      "  adding: kaggle/working/ (stored 0%)\n",
      "  adding: kaggle/working/kaggle/ (stored 0%)\n",
      "  adding: kaggle/working/kaggle/working/ (stored 0%)\n",
      "  adding: kaggle/working/kaggle/working/results/ (stored 0%)\n",
      "  adding: kaggle/working/kaggle/working/results/checkpoint-12150/ (stored 0%)\n",
      "  adding: kaggle/working/kaggle/working/results/checkpoint-12150/scheduler.pt (deflated 56%)\n",
      "  adding: kaggle/working/kaggle/working/results/checkpoint-12150/optimizer.pt (deflated 20%)\n",
      "  adding: kaggle/working/kaggle/working/results/checkpoint-12150/rng_state.pth (deflated 25%)\n",
      "  adding: kaggle/working/kaggle/working/results/checkpoint-12150/training_args.bin (deflated 51%)\n",
      "  adding: kaggle/working/kaggle/working/results/checkpoint-12150/config.json (deflated 58%)\n",
      "  adding: kaggle/working/kaggle/working/results/checkpoint-12150/trainer_state.json (deflated 83%)\n",
      "  adding: kaggle/working/kaggle/working/results/checkpoint-12150/model.safetensors (deflated 9%)\n",
      "  adding: kaggle/working/kaggle/working/results/checkpoint-16200/ (stored 0%)\n",
      "  adding: kaggle/working/kaggle/working/results/checkpoint-16200/scheduler.pt (deflated 55%)\n",
      "  adding: kaggle/working/kaggle/working/results/checkpoint-16200/optimizer.pt (deflated 20%)\n",
      "  adding: kaggle/working/kaggle/working/results/checkpoint-16200/rng_state.pth (deflated 25%)\n",
      "  adding: kaggle/working/kaggle/working/results/checkpoint-16200/training_args.bin (deflated 51%)\n",
      "  adding: kaggle/working/kaggle/working/results/checkpoint-16200/config.json (deflated 58%)\n",
      "  adding: kaggle/working/kaggle/working/results/checkpoint-16200/trainer_state.json (deflated 83%)\n",
      "  adding: kaggle/working/kaggle/working/results/checkpoint-16200/model.safetensors (deflated 9%)\n",
      "  adding: kaggle/working/kaggle/working/results/checkpoint-8100/ (stored 0%)\n",
      "  adding: kaggle/working/kaggle/working/results/checkpoint-8100/scheduler.pt (deflated 55%)\n",
      "  adding: kaggle/working/kaggle/working/results/checkpoint-8100/optimizer.pt (deflated 20%)\n",
      "  adding: kaggle/working/kaggle/working/results/checkpoint-8100/rng_state.pth (deflated 25%)\n",
      "  adding: kaggle/working/kaggle/working/results/checkpoint-8100/training_args.bin (deflated 51%)\n",
      "  adding: kaggle/working/kaggle/working/results/checkpoint-8100/config.json (deflated 58%)\n",
      "  adding: kaggle/working/kaggle/working/results/checkpoint-8100/trainer_state.json (deflated 82%)\n",
      "  adding: kaggle/working/kaggle/working/results/checkpoint-8100/model.safetensors (deflated 9%)\n",
      "  adding: kaggle/working/kaggle/working/results/checkpoint-20250/ (stored 0%)\n",
      "  adding: kaggle/working/kaggle/working/results/checkpoint-20250/scheduler.pt (deflated 56%)\n",
      "  adding: kaggle/working/kaggle/working/results/checkpoint-20250/optimizer.pt (deflated 20%)\n",
      "  adding: kaggle/working/kaggle/working/results/checkpoint-20250/rng_state.pth (deflated 25%)\n",
      "  adding: kaggle/working/kaggle/working/results/checkpoint-20250/training_args.bin (deflated 51%)\n",
      "  adding: kaggle/working/kaggle/working/results/checkpoint-20250/config.json (deflated 58%)\n",
      "  adding: kaggle/working/kaggle/working/results/checkpoint-20250/trainer_state.json (deflated 83%)\n",
      "  adding: kaggle/working/kaggle/working/results/checkpoint-20250/model.safetensors (deflated 9%)\n",
      "  adding: kaggle/working/kaggle/working/results/checkpoint-4050/ (stored 0%)\n",
      "  adding: kaggle/working/kaggle/working/results/checkpoint-4050/scheduler.pt (deflated 56%)\n",
      "  adding: kaggle/working/kaggle/working/results/checkpoint-4050/optimizer.pt (deflated 20%)\n",
      "  adding: kaggle/working/kaggle/working/results/checkpoint-4050/rng_state.pth (deflated 25%)\n",
      "  adding: kaggle/working/kaggle/working/results/checkpoint-4050/training_args.bin (deflated 51%)\n",
      "  adding: kaggle/working/kaggle/working/results/checkpoint-4050/config.json (deflated 58%)\n",
      "  adding: kaggle/working/kaggle/working/results/checkpoint-4050/trainer_state.json (deflated 81%)\n",
      "  adding: kaggle/working/kaggle/working/results/checkpoint-4050/model.safetensors (deflated 9%)\n",
      "  adding: kaggle/working/state.db (deflated 12%)\n",
      "  adding: kaggle/working/wandb/ (stored 0%)\n",
      "  adding: kaggle/working/wandb/run-20240324_194739-z8lgbarr/ (stored 0%)\n",
      "  adding: kaggle/working/wandb/run-20240324_194739-z8lgbarr/run-z8lgbarr.wandb (deflated 84%)\n",
      "  adding: kaggle/working/wandb/run-20240324_194739-z8lgbarr/files/ (stored 0%)\n",
      "  adding: kaggle/working/wandb/run-20240324_194739-z8lgbarr/files/config.yaml (deflated 77%)\n",
      "  adding: kaggle/working/wandb/run-20240324_194739-z8lgbarr/files/conda-environment.yaml (deflated 67%)\n",
      "  adding: kaggle/working/wandb/run-20240324_194739-z8lgbarr/files/wandb-summary.json (deflated 54%)\n",
      "  adding: kaggle/working/wandb/run-20240324_194739-z8lgbarr/files/wandb-metadata.json (deflated 65%)\n",
      "  adding: kaggle/working/wandb/run-20240324_194739-z8lgbarr/files/output.log (deflated 57%)\n",
      "  adding: kaggle/working/wandb/run-20240324_194739-z8lgbarr/files/requirements.txt (deflated 58%)\n",
      "  adding: kaggle/working/wandb/run-20240324_194739-z8lgbarr/logs/ (stored 0%)\n",
      "  adding: kaggle/working/wandb/run-20240324_194739-z8lgbarr/logs/debug.log (deflated 86%)\n",
      "  adding: kaggle/working/wandb/run-20240324_194739-z8lgbarr/logs/debug-internal.log (deflated 95%)\n",
      "  adding: kaggle/working/best_model/ (stored 0%)\n",
      "  adding: kaggle/working/best_model/config.json (deflated 58%)\n",
      "  adding: kaggle/working/best_model/model.safetensors (deflated 9%)\n",
      "  adding: kaggle/working/.virtual_documents/ (stored 0%)\n",
      "  adding: kaggle/working/logs/ (stored 0%)\n",
      "  adding: kaggle/working/logs/events.out.tfevents.1711309758.ca832499b7bb.34.2 (deflated 70%)\n",
      "  adding: kaggle/working/logs/events.out.tfevents.1711331162.ca832499b7bb.34.3 (deflated 31%)\n",
      "  adding: kaggle/working/logs/events.out.tfevents.1711309743.ca832499b7bb.34.1 (deflated 63%)\n",
      "  adding: kaggle/working/logs/events.out.tfevents.1711309738.ca832499b7bb.34.0 (deflated 63%)\n",
      "  adding: kaggle/working/train_data_csv (deflated 59%)\n",
      "  adding: kaggle/working/val_data_csv (deflated 58%)\n",
      "  adding: kaggle/working/test_data_csv (deflated 59%)\n"
     ]
    },
    {
     "data": {
      "text/html": [
       "<a href='file.zip' target='_blank'>file.zip</a><br>"
      ],
      "text/plain": [
       "/kaggle/working/file.zip"
      ]
     },
     "execution_count": 1,
     "metadata": {},
     "output_type": "execute_result"
    }
   ],
   "source": [
    "!zip -r file.zip /kaggle/working\n",
    "from IPython.display import FileLink\n",
    "FileLink(r'file.zip')"
   ]
  },
  {
   "cell_type": "code",
   "execution_count": 217,
   "id": "26d1ff48",
   "metadata": {
    "execution": {
     "iopub.execute_input": "2024-03-25T15:07:12.603658Z",
     "iopub.status.busy": "2024-03-25T15:07:12.603269Z",
     "iopub.status.idle": "2024-03-25T15:07:12.610429Z",
     "shell.execute_reply": "2024-03-25T15:07:12.609509Z",
     "shell.execute_reply.started": "2024-03-25T15:07:12.603629Z"
    }
   },
   "outputs": [
    {
     "data": {
      "text/plain": [
       "['train_data_csv',\n",
       " 'kaggle',\n",
       " 'file.zip',\n",
       " 'val_data_csv',\n",
       " '.virtual_documents',\n",
       " 'wandb',\n",
       " 'logs',\n",
       " 'test_data_csv',\n",
       " 'best_model',\n",
       " 'state.db']"
      ]
     },
     "execution_count": 217,
     "metadata": {},
     "output_type": "execute_result"
    }
   ],
   "source": [
    "import os\n",
    "os.listdir()"
   ]
  },
  {
   "cell_type": "code",
   "execution_count": 222,
   "id": "7c8e7a9e",
   "metadata": {
    "execution": {
     "iopub.execute_input": "2024-03-25T15:17:37.799165Z",
     "iopub.status.busy": "2024-03-25T15:17:37.798279Z",
     "iopub.status.idle": "2024-03-25T15:17:37.803856Z",
     "shell.execute_reply": "2024-03-25T15:17:37.802804Z",
     "shell.execute_reply.started": "2024-03-25T15:17:37.799130Z"
    }
   },
   "outputs": [],
   "source": [
    "os.remove(\"file.zip\")"
   ]
  },
  {
   "cell_type": "code",
   "execution_count": 221,
   "id": "3926c468",
   "metadata": {
    "execution": {
     "iopub.execute_input": "2024-03-25T15:11:03.425780Z",
     "iopub.status.busy": "2024-03-25T15:11:03.425416Z",
     "iopub.status.idle": "2024-03-25T15:11:04.540320Z",
     "shell.execute_reply": "2024-03-25T15:11:04.539091Z",
     "shell.execute_reply.started": "2024-03-25T15:11:03.425751Z"
    }
   },
   "outputs": [
    {
     "name": "stderr",
     "output_type": "stream",
     "text": [
      "huggingface/tokenizers: The current process just got forked, after parallelism has already been used. Disabling parallelism to avoid deadlocks...\n",
      "To disable this warning, you can either:\n",
      "\t- Avoid using `tokenizers` before the fork if possible\n",
      "\t- Explicitly set the environment variable TOKENIZERS_PARALLELISM=(true | false)\n"
     ]
    },
    {
     "name": "stdout",
     "output_type": "stream",
     "text": [
      "  adding: kaggle/working/logs/ (stored 0%)\n",
      "  adding: kaggle/working/logs/events.out.tfevents.1711309743.ca832499b7bb.34.1 (deflated 63%)\n",
      "  adding: kaggle/working/logs/events.out.tfevents.1711309758.ca832499b7bb.34.2 (deflated 70%)\n",
      "  adding: kaggle/working/logs/events.out.tfevents.1711331162.ca832499b7bb.34.3 (deflated 31%)\n",
      "  adding: kaggle/working/logs/events.out.tfevents.1711309738.ca832499b7bb.34.0 (deflated 63%)\n"
     ]
    },
    {
     "data": {
      "text/html": [
       "<a href='file.zip' target='_blank'>file.zip</a><br>"
      ],
      "text/plain": [
       "/kaggle/working/file.zip"
      ]
     },
     "execution_count": 221,
     "metadata": {},
     "output_type": "execute_result"
    }
   ],
   "source": [
    "!zip -r file.zip /kaggle/working/logs\n",
    "from IPython.display import FileLink\n",
    "FileLink(r'file.zip')"
   ]
  }
 ],
 "metadata": {
  "accelerator": "GPU",
  "colab": {
   "gpuType": "T4",
   "provenance": []
  },
  "kaggle": {
   "accelerator": "gpu",
   "dataSources": [
    {
     "datasetId": 4612196,
     "sourceId": 7862174,
     "sourceType": "datasetVersion"
    },
    {
     "datasetId": 4632032,
     "sourceId": 7889785,
     "sourceType": "datasetVersion"
    },
    {
     "datasetId": 4645465,
     "sourceId": 7908083,
     "sourceType": "datasetVersion"
    },
    {
     "datasetId": 4645645,
     "sourceId": 7908308,
     "sourceType": "datasetVersion"
    },
    {
     "datasetId": 4649400,
     "sourceId": 7913487,
     "sourceType": "datasetVersion"
    },
    {
     "datasetId": 4649403,
     "sourceId": 7913490,
     "sourceType": "datasetVersion"
    },
    {
     "datasetId": 4651359,
     "sourceId": 7916101,
     "sourceType": "datasetVersion"
    },
    {
     "datasetId": 4651371,
     "sourceId": 7916114,
     "sourceType": "datasetVersion"
    },
    {
     "datasetId": 4658142,
     "sourceId": 7925919,
     "sourceType": "datasetVersion"
    },
    {
     "datasetId": 4667611,
     "sourceId": 7939378,
     "sourceType": "datasetVersion"
    }
   ],
   "dockerImageVersionId": 30674,
   "isGpuEnabled": true,
   "isInternetEnabled": true,
   "language": "python",
   "sourceType": "notebook"
  },
  "kernelspec": {
   "display_name": "Python 3 (ipykernel)",
   "language": "python",
   "name": "python3"
  },
  "language_info": {
   "codemirror_mode": {
    "name": "ipython",
    "version": 3
   },
   "file_extension": ".py",
   "mimetype": "text/x-python",
   "name": "python",
   "nbconvert_exporter": "python",
   "pygments_lexer": "ipython3",
   "version": "3.9.13"
  }
 },
 "nbformat": 4,
 "nbformat_minor": 5
}
